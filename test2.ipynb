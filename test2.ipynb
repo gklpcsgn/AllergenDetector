{
 "cells": [
  {
   "cell_type": "code",
   "execution_count": 2,
   "metadata": {},
   "outputs": [],
   "source": [
    "import pandas as pd\n",
    "import json"
   ]
  },
  {
   "cell_type": "code",
   "execution_count": 3,
   "metadata": {},
   "outputs": [],
   "source": [
    "data = \"[{\\\"barcodeno\\\":1,\\\"foodname\\\":\\\"ekmek\\\",\\\"brand\\\":\\\"firinci\\\",\\\"weightvolume\\\":200,\\\"ingredients\\\":\\\"un\\\",\\\"fat\\\":20,\\\"protein\\\":10,\\\"carbs\\\":75,\\\"calorie\\\":300,\\\"allergennames\\\":\\\"['gluten', 'findik']\\\"}]\""
   ]
  },
  {
   "cell_type": "code",
   "execution_count": 4,
   "metadata": {},
   "outputs": [],
   "source": [
    "t = pd.read_json(data)"
   ]
  },
  {
   "cell_type": "code",
   "execution_count": 5,
   "metadata": {},
   "outputs": [
    {
     "data": {
      "text/html": [
       "<div>\n",
       "<style scoped>\n",
       "    .dataframe tbody tr th:only-of-type {\n",
       "        vertical-align: middle;\n",
       "    }\n",
       "\n",
       "    .dataframe tbody tr th {\n",
       "        vertical-align: top;\n",
       "    }\n",
       "\n",
       "    .dataframe thead th {\n",
       "        text-align: right;\n",
       "    }\n",
       "</style>\n",
       "<table border=\"1\" class=\"dataframe\">\n",
       "  <thead>\n",
       "    <tr style=\"text-align: right;\">\n",
       "      <th></th>\n",
       "      <th>barcodeno</th>\n",
       "      <th>foodname</th>\n",
       "      <th>brand</th>\n",
       "      <th>weightvolume</th>\n",
       "      <th>ingredients</th>\n",
       "      <th>fat</th>\n",
       "      <th>protein</th>\n",
       "      <th>carbs</th>\n",
       "      <th>calorie</th>\n",
       "      <th>allergennames</th>\n",
       "    </tr>\n",
       "  </thead>\n",
       "  <tbody>\n",
       "    <tr>\n",
       "      <th>0</th>\n",
       "      <td>1</td>\n",
       "      <td>ekmek</td>\n",
       "      <td>firinci</td>\n",
       "      <td>200</td>\n",
       "      <td>un</td>\n",
       "      <td>20</td>\n",
       "      <td>10</td>\n",
       "      <td>75</td>\n",
       "      <td>300</td>\n",
       "      <td>['gluten', 'findik']</td>\n",
       "    </tr>\n",
       "  </tbody>\n",
       "</table>\n",
       "</div>"
      ],
      "text/plain": [
       "   barcodeno foodname    brand  weightvolume ingredients  fat  protein  carbs  \\\n",
       "0          1    ekmek  firinci           200          un   20       10     75   \n",
       "\n",
       "   calorie         allergennames  \n",
       "0      300  ['gluten', 'findik']  "
      ]
     },
     "execution_count": 5,
     "metadata": {},
     "output_type": "execute_result"
    }
   ],
   "source": [
    "t"
   ]
  },
  {
   "cell_type": "code",
   "execution_count": 6,
   "metadata": {},
   "outputs": [
    {
     "name": "stdout",
     "output_type": "stream",
     "text": [
      "   barcodeno foodname    brand  weightvolume ingredients  fat  protein  carbs  \\\n",
      "0          1    ekmek  firinci           200          un   20       10     75   \n",
      "\n",
      "   calorie         allergennames  \n",
      "0      300  ['gluten', 'findik']  \n"
     ]
    }
   ],
   "source": [
    "for i in t.values:\n",
    "    print(t)"
   ]
  },
  {
   "cell_type": "code",
   "execution_count": 7,
   "metadata": {},
   "outputs": [
    {
     "data": {
      "text/plain": [
       "'[\"gluten\", \"findik\"]'"
      ]
     },
     "execution_count": 7,
     "metadata": {},
     "output_type": "execute_result"
    }
   ],
   "source": [
    "t[\"allergennames\"][0].replace(\"'\",\"\\\"\")"
   ]
  },
  {
   "cell_type": "code",
   "execution_count": 8,
   "metadata": {},
   "outputs": [
    {
     "data": {
      "text/plain": [
       "['gluten', 'findik']"
      ]
     },
     "execution_count": 8,
     "metadata": {},
     "output_type": "execute_result"
    }
   ],
   "source": [
    "json.loads(t[\"allergennames\"][0].replace(\"'\",\"\\\"\"))"
   ]
  },
  {
   "cell_type": "code",
   "execution_count": 11,
   "metadata": {},
   "outputs": [
    {
     "data": {
      "text/html": [
       "<div>\n",
       "<style scoped>\n",
       "    .dataframe tbody tr th:only-of-type {\n",
       "        vertical-align: middle;\n",
       "    }\n",
       "\n",
       "    .dataframe tbody tr th {\n",
       "        vertical-align: top;\n",
       "    }\n",
       "\n",
       "    .dataframe thead th {\n",
       "        text-align: right;\n",
       "    }\n",
       "</style>\n",
       "<table border=\"1\" class=\"dataframe\">\n",
       "  <thead>\n",
       "    <tr style=\"text-align: right;\">\n",
       "      <th></th>\n",
       "      <th>allergenid</th>\n",
       "      <th>allergenname</th>\n",
       "    </tr>\n",
       "  </thead>\n",
       "  <tbody>\n",
       "    <tr>\n",
       "      <th>0</th>\n",
       "      <td>1</td>\n",
       "      <td>gluten</td>\n",
       "    </tr>\n",
       "    <tr>\n",
       "      <th>1</th>\n",
       "      <td>2</td>\n",
       "      <td>findik</td>\n",
       "    </tr>\n",
       "  </tbody>\n",
       "</table>\n",
       "</div>"
      ],
      "text/plain": [
       "   allergenid allergenname\n",
       "0           1       gluten\n",
       "1           2       findik"
      ]
     },
     "execution_count": 11,
     "metadata": {},
     "output_type": "execute_result"
    }
   ],
   "source": [
    "allAllergens = '[{\"allergenid\":1,\"allergenname\":\"gluten\"},{\"allergenid\":2,\"allergenname\":\"findik\"}]'\n",
    "allAllergens = pd.read_json(allAllergens)\n",
    "allAllergens"
   ]
  },
  {
   "cell_type": "code",
   "execution_count": 15,
   "metadata": {},
   "outputs": [
    {
     "name": "stdout",
     "output_type": "stream",
     "text": [
      "1\n",
      "gluten\n",
      "2\n",
      "findik\n"
     ]
    }
   ],
   "source": [
    "for i in allAllergens.values:\n",
    "    #print allergenid\n",
    "    print(i[0])\n",
    "    #print allergenname\n",
    "    print(i[1])"
   ]
  },
  {
   "cell_type": "code",
   "execution_count": null,
   "metadata": {},
   "outputs": [],
   "source": []
  }
 ],
 "metadata": {
  "kernelspec": {
   "display_name": "Python 3.9.0 64-bit",
   "language": "python",
   "name": "python3"
  },
  "language_info": {
   "codemirror_mode": {
    "name": "ipython",
    "version": 3
   },
   "file_extension": ".py",
   "mimetype": "text/x-python",
   "name": "python",
   "nbconvert_exporter": "python",
   "pygments_lexer": "ipython3",
   "version": "3.9.0"
  },
  "orig_nbformat": 4,
  "vscode": {
   "interpreter": {
    "hash": "aee8b7b246df8f9039afb4144a1f6fd8d2ca17a180786b69acc140d282b71a49"
   }
  }
 },
 "nbformat": 4,
 "nbformat_minor": 2
}
